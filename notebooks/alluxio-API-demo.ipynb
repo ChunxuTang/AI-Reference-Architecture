{
 "cells": [
  {
   "cell_type": "markdown",
   "id": "06b4338b-910e-45fc-8144-1d1abf0586b4",
   "metadata": {},
   "source": [
    "# Alluxio API in AI/ML Demo"
   ]
  },
  {
   "cell_type": "markdown",
   "id": "edc0ee88-9c65-42b3-8989-461b97b18cf8",
   "metadata": {},
   "source": [
    "Alluxio supports three main AI/ML APIs:\n",
    "- POSIX API. Access dataset just like local file system folder\n",
    "- S3 API. Access dataset just like S3 dataset\n",
    "- Python API. Access dataset via Alluxio Python library"
   ]
  },
  {
   "cell_type": "markdown",
   "id": "7acf5f77-f007-4988-a018-6ac2691bb106",
   "metadata": {},
   "source": [
    "This demo will demonstrate how to use these three APIs to access data stored in S3 originally and cached by Alluxio."
   ]
  },
  {
   "cell_type": "code",
   "execution_count": 1,
   "id": "4335facb-8eb2-42a7-8265-2332a9074a2f",
   "metadata": {},
   "outputs": [],
   "source": [
    "# Set dataset location\n",
    "dataset = \"s3://ai-ref-arch/demo/api\""
   ]
  },
  {
   "cell_type": "markdown",
   "id": "1f445608-0a36-4eb9-a9a3-95e702438667",
   "metadata": {},
   "source": [
    "## Alluxio POSIX API"
   ]
  },
  {
   "cell_type": "markdown",
   "id": "202df60e-3414-4461-b16a-cdd075428f78",
   "metadata": {},
   "source": [
    "Alluxio POSIX API turns S3 dataset into your local folder with data locality"
   ]
  },
  {
   "cell_type": "markdown",
   "id": "77534cd4-d7c0-4805-98d9-d7c6589fbf15",
   "metadata": {},
   "source": [
    "Set POSIX API parameters"
   ]
  },
  {
   "cell_type": "code",
   "execution_count": 2,
   "id": "b1538d10-9680-4e09-ae39-127ebffc7ce6",
   "metadata": {},
   "outputs": [],
   "source": [
    "mount_point = \"/Users/alluxio/mnt/fuse\"\n",
    "alluxio_fuse_dir = '/Users/alluxio/alluxioFolder/alluxio/dora/integration/fuse/bin'"
   ]
  },
  {
   "cell_type": "markdown",
   "id": "0a09c52b-3f5e-4117-8310-3c7d1bf7c65b",
   "metadata": {},
   "source": [
    "Mount S3 dataset to local mount point"
   ]
  },
  {
   "cell_type": "code",
   "execution_count": 3,
   "id": "963cfd6a-deb7-405d-9e31-a925e45152ac",
   "metadata": {},
   "outputs": [
    {
     "name": "stdout",
     "output_type": "stream",
     "text": [
      "Mounting s3://ai-ref-arch/demo/api to /Users/alluxio/mnt/fuse\n",
      "Successfully mounted s3://ai-ref-arch/demo/api to /Users/alluxio/mnt/fuse\n"
     ]
    }
   ],
   "source": [
    "import os\n",
    "os.environ['PATH'] = f\"{alluxio_fuse_dir}:{os.environ['PATH']}\"\n",
    "! alluxio-fuse mount $dataset $mount_point"
   ]
  },
  {
   "cell_type": "code",
   "execution_count": 4,
   "id": "77be9125-48e8-4b7c-8cb6-bfb9cc6a9c71",
   "metadata": {},
   "outputs": [
    {
     "name": "stdout",
     "output_type": "stream",
     "text": [
      "['Alluxio', 'Hello']\n"
     ]
    }
   ],
   "source": [
    "# List all files in the specified directory\n",
    "list_result = os.listdir(mount_point)\n",
    "print(list_result)"
   ]
  },
  {
   "cell_type": "code",
   "execution_count": 5,
   "id": "d3f94b71-ddb7-4a59-9230-a0ef7a30bf2e",
   "metadata": {},
   "outputs": [
    {
     "name": "stdout",
     "output_type": "stream",
     "text": [
      "Contents of Alluxio:\n",
      "Welcome to Alluxio!\n",
      "\n",
      "\n",
      "Contents of Hello:\n",
      "Hello Alluxio!\n",
      "\n",
      "\n"
     ]
    }
   ],
   "source": [
    "# Loop through each file and read its contents\n",
    "for file_name in list_result:\n",
    "    file_path = os.path.join(mount_point, file_name)\n",
    "    with open(file_path, 'r') as file:\n",
    "        print(f\"Contents of {file_name}:\")\n",
    "        for line in file:\n",
    "            print(line.strip())\n",
    "        print(\"\\n\")"
   ]
  },
  {
   "cell_type": "markdown",
   "id": "b83bf828-f7db-4a2d-a432-813fe1301de9",
   "metadata": {},
   "source": [
    "## Alluxio Python API"
   ]
  },
  {
   "cell_type": "markdown",
   "id": "41c1c123-9d82-4c2e-a739-cd891a8a9e75",
   "metadata": {},
   "source": [
    "Alluxio Python API is based on Alluxio RESTful API to do efficiently data listing and reading"
   ]
  },
  {
   "cell_type": "code",
   "execution_count": 6,
   "id": "dad130ce-032a-4656-ac34-08b910e0b043",
   "metadata": {},
   "outputs": [],
   "source": [
    "etcd_host=\"localhost\""
   ]
  },
  {
   "cell_type": "code",
   "execution_count": 7,
   "id": "647ffe32-acbe-491a-b2fb-983bfdba0f26",
   "metadata": {
    "tags": []
   },
   "outputs": [],
   "source": [
    "from alluxio import AlluxioFileSystem\n",
    "alluxio = AlluxioFileSystem(etcd_host=etcd_host)"
   ]
  },
  {
   "cell_type": "code",
   "execution_count": 8,
   "id": "70b7fe56-a4be-419d-928e-4649092c7f4e",
   "metadata": {},
   "outputs": [
    {
     "name": "stdout",
     "output_type": "stream",
     "text": [
      "[{'mType': 'file', 'mName': 'Alluxio', 'mLength': 20}, {'mType': 'file', 'mName': 'Hello', 'mLength': 15}]\n"
     ]
    }
   ],
   "source": [
    "# List all files in the specified directory\n",
    "list_result = alluxio.listdir(dataset)\n",
    "print(list_result)"
   ]
  },
  {
   "cell_type": "code",
   "execution_count": 9,
   "id": "9b632f7c-f7bf-4d5d-b787-d4fc18df4be2",
   "metadata": {},
   "outputs": [
    {
     "name": "stdout",
     "output_type": "stream",
     "text": [
      "b'Welcome to Alluxio!\\n'\n",
      "b'Hello Alluxio!\\n'\n"
     ]
    }
   ],
   "source": [
    "# Loop through each file and read its contents\n",
    "for file in list_result:\n",
    "    file_path = f\"{dataset}/{file['mName']}\"\n",
    "    print(alluxio.read(file_path))"
   ]
  },
  {
   "cell_type": "markdown",
   "id": "e815f91c-20b9-4803-b7cc-f361e97ee37d",
   "metadata": {},
   "source": [
    "## Alluxio S3 API"
   ]
  },
  {
   "cell_type": "code",
   "execution_count": 10,
   "id": "dda9d176-681e-4c7e-994a-650b0bc8529b",
   "metadata": {},
   "outputs": [],
   "source": [
    "# Configure worker addresses and Alluxio underlying storage address to use Alluxio S3 API\n",
    "worker_host=\"localhost\"\n",
    "alluxio_under_storage=\"s3://ai-ref-arch/\""
   ]
  },
  {
   "cell_type": "code",
   "execution_count": 11,
   "id": "6fc74e48-8da6-49f7-8b25-482fe9837bc2",
   "metadata": {},
   "outputs": [],
   "source": [
    "import boto3\n",
    "import json\n",
    "alluxios3 = boto3.client(\n",
    "            service_name=\"s3\",\n",
    "            aws_access_key_id=\"alluxio\",  # alluxio user name\n",
    "            aws_secret_access_key=\"SK...\",  # dummy value\n",
    "            endpoint_url=f\"http://{worker_host}:29998\"\n",
    "        )"
   ]
  },
  {
   "cell_type": "code",
   "execution_count": 12,
   "id": "896acba8-b4c0-41da-b60c-8b539030b58b",
   "metadata": {},
   "outputs": [],
   "source": [
    "def subtract_path(path, parent_path):\n",
    "    if \"://\" in path and \"://\" in parent_path:\n",
    "        # Remove the parent_path from path\n",
    "        relative_path = path[len(parent_path) :]\n",
    "    else:\n",
    "        # Get the relative path for local paths\n",
    "        relative_path = os.path.relpath(path, start=parent_path)\n",
    "    return relative_path\n",
    "\n",
    "def get_bucket_path(full_path):\n",
    "    alluxio_path = subtract_path(full_path, alluxio_under_storage)\n",
    "    parts = alluxio_path.split(\"/\", 1)\n",
    "    if len(parts) == 0:\n",
    "        self.logger.error(\n",
    "            \"Alluxio S3 API can only execute under a directory under \"\n",
    "            \"dora root. This directory will be used as S3 bucket name\"\n",
    "        )\n",
    "        return None\n",
    "    elif len(parts) == 1:\n",
    "        return parts[0], None\n",
    "    else:\n",
    "        return parts[0], parts[1]"
   ]
  },
  {
   "cell_type": "code",
   "execution_count": 13,
   "id": "58418d01-3562-4ac9-baad-dc2505b1f299",
   "metadata": {
    "tags": []
   },
   "outputs": [
    {
     "name": "stdout",
     "output_type": "stream",
     "text": [
      "[{'Key': 'api/', 'LastModified': datetime.datetime(1969, 12, 31, 16, 0, tzinfo=tzutc()), 'Size': 0}, {'Key': 'api/Alluxio', 'LastModified': datetime.datetime(2023, 9, 5, 16, 18, 30, tzinfo=tzutc()), 'Size': 20}, {'Key': 'api/Hello', 'LastModified': datetime.datetime(2023, 9, 5, 16, 18, 46, tzinfo=tzutc()), 'Size': 15}]\n"
     ]
    }
   ],
   "source": [
    "# List all files in the specified directory\n",
    "bucket, path = get_bucket_path(dataset)\n",
    "list_result = alluxios3.list_objects_v2(Bucket=bucket, Prefix=path)[\"Contents\"]\n",
    "print(list_result)"
   ]
  },
  {
   "cell_type": "code",
   "execution_count": 14,
   "id": "16118191-0a67-4d46-a520-b1a40a00f7f5",
   "metadata": {},
   "outputs": [
    {
     "name": "stdout",
     "output_type": "stream",
     "text": [
      "b'Welcome to Alluxio!\\n'\n",
      "b'Hello Alluxio!\\n'\n"
     ]
    }
   ],
   "source": [
    "# Loop through each file and read its contents\n",
    "files = [obj[\"Key\"] for obj in list_result if not obj[\"Key\"].endswith('/')]\n",
    "for file in files:\n",
    "    file_path = f\"{alluxio_under_storage}{bucket}/{file}\"\n",
    "    bucket, path = get_bucket_path(file_path)\n",
    "    print(alluxios3.get_object(Bucket=bucket, Key=path)[\"Body\"].read())"
   ]
  },
  {
   "cell_type": "code",
   "execution_count": null,
   "id": "cc4c9693-9074-4c8c-a867-c00e37d01f50",
   "metadata": {},
   "outputs": [],
   "source": []
  }
 ],
 "metadata": {
  "kernelspec": {
   "display_name": "Python 3 (ipykernel)",
   "language": "python",
   "name": "python3"
  },
  "language_info": {
   "codemirror_mode": {
    "name": "ipython",
    "version": 3
   },
   "file_extension": ".py",
   "mimetype": "text/x-python",
   "name": "python",
   "nbconvert_exporter": "python",
   "pygments_lexer": "ipython3",
   "version": "3.10.9"
  }
 },
 "nbformat": 4,
 "nbformat_minor": 5
}
