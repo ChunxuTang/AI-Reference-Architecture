{
 "cells": [
  {
   "cell_type": "markdown",
   "id": "4ddfdcc8",
   "metadata": {},
   "source": [
    "# CV Data Loading Benchmarking"
   ]
  },
  {
   "cell_type": "markdown",
   "id": "04c32dc5",
   "metadata": {},
   "source": [
    "## Section 1: Preparing the Benchmark"
   ]
  },
  {
   "cell_type": "markdown",
   "id": "ebb2726a",
   "metadata": {},
   "source": [
    "Prepare the Computer Vision data loading benchmark\n",
    "- Creates data loader with given dataset path\n",
    "- Iterates the full dataset for multiple epoches (by default 5 epoches)\n",
    "- Provides data loading performance for comparing data loading solutions"
   ]
  },
  {
   "cell_type": "code",
   "execution_count": 5,
   "id": "c3061bff",
   "metadata": {},
   "outputs": [],
   "source": [
    "import time\n",
    "import torch\n",
    "\n",
    "import torchvision.transforms as transforms\n",
    "from torchvision.datasets import ImageFolder\n",
    "from torch.utils.data import DataLoader"
   ]
  },
  {
   "cell_type": "code",
   "execution_count": 6,
   "id": "ad28f8aa",
   "metadata": {},
   "outputs": [],
   "source": [
    "batch_size = 32\n",
    "num_workers = 4\n",
    "num_epochs = 5"
   ]
  },
  {
   "cell_type": "code",
   "execution_count": 3,
   "id": "57216aa7",
   "metadata": {},
   "outputs": [],
   "source": [
    "mean = (0.485, 0.456, 0.406)\n",
    "std = (0.229, 0.224, 0.225)\n",
    "\n",
    "transform = transforms.Compose(\n",
    "    [\n",
    "        transforms.Resize(256),\n",
    "        transforms.CenterCrop(224),\n",
    "        transforms.ToTensor(),\n",
    "        transforms.Normalize(mean, std),\n",
    "    ]\n",
    ")"
   ]
  },
  {
   "cell_type": "code",
   "execution_count": 4,
   "id": "e1688301",
   "metadata": {},
   "outputs": [],
   "source": [
    "def benchmark_data_loading(dataset):\n",
    "    data_loader = DataLoader(\n",
    "        dataset,\n",
    "        batch_size=batch_size,\n",
    "        shuffle=False,\n",
    "        num_workers=num_workers,\n",
    "    )\n",
    "    start_time = time.perf_counter()\n",
    "    for epoch in range(num_epochs):\n",
    "        epoch_start = time.perf_counter()\n",
    "        for _, _ in data_loader:\n",
    "            pass\n",
    "        epoch_end = time.perf_counter()\n",
    "        print(f\"Epoch {epoch}: {epoch_end - epoch_start:0.4f} seconds\")\n",
    "    end_time = time.perf_counter()\n",
    "    elapsed_time = end_time - start_time\n",
    "    print(f\"Data loading in {elapsed_time:0.4f} seconds\")\n",
    "    print(f\"num_epochs: {num_epochs} | batch_size: {batch_size} | num_workers: {num_workers} | time: {elapsed_time:0.4f}\")"
   ]
  },
  {
   "cell_type": "markdown",
   "id": "2b5d19db",
   "metadata": {},
   "source": [
    "## Section 2: Run benchmark against Alluxio dataset"
   ]
  },
  {
   "cell_type": "markdown",
   "id": "3f8d8b63",
   "metadata": {},
   "source": [
    "Run the benchmark against the Alluxio "
   ]
  },
  {
   "cell_type": "code",
   "execution_count": 5,
   "id": "c3a3ba38",
   "metadata": {},
   "outputs": [
    {
     "name": "stdout",
     "output_type": "stream",
     "text": [
      "Epoch 0: 60.7604 seconds\n",
      "Epoch 1: 51.2211 seconds\n",
      "Epoch 2: 51.0024 seconds\n",
      "Epoch 3: 50.7343 seconds\n",
      "Epoch 4: 50.7579 seconds\n",
      "Data loading in 264.4770 seconds\n",
      "num_epochs: 5 | batch_size: 32 | num_workers: 4 | time: 264.4770\n"
     ]
    }
   ],
   "source": [
    "alluxio_data_path = \"/mnt/alluxio/fuse/imagenet-mini/train\"\n",
    "alluxio_dataset = ImageFolder(root=alluxio_data_path, transform=transform)\n",
    "benchmark_data_loading(alluxio_dataset)"
   ]
  },
  {
   "cell_type": "markdown",
   "id": "02f54d65",
   "metadata": {},
   "source": [
    "## Section 3: Run benchmark against S3 dataset via S3FS-FUSE"
   ]
  },
  {
   "cell_type": "markdown",
   "id": "c49c6c2c",
   "metadata": {},
   "source": [
    "[S3FS-FUSE](https://github.com/s3fs-fuse/s3fs-fuse) is the most popular S3 FUSE solution to turn S3 into a local folder.\n",
    "S3fs-fuse is mounted with local metadata and data cache."
   ]
  },
  {
   "cell_type": "code",
   "execution_count": 6,
   "id": "a105cfc8",
   "metadata": {},
   "outputs": [
    {
     "name": "stdout",
     "output_type": "stream",
     "text": [
      "Epoch 0: 1839.1245 seconds\n",
      "Epoch 1: 237.1417 seconds\n",
      "Epoch 2: 261.3594 seconds\n",
      "Epoch 3: 237.7608 seconds\n",
      "Epoch 4: 246.1914 seconds\n",
      "Data loading in 2821.5784 seconds\n",
      "num_epochs: 5 | batch_size: 32 | num_workers: 4 | time: 2821.5784\n"
     ]
    }
   ],
   "source": [
    "s3fs_data_path = \"/mnt/s3fs/imagenet-mini/train\"\n",
    "s3fs_dataset = ImageFolder(root=s3fs_data_path, transform=transform)\n",
    "benchmark_data_loading(s3fs_dataset)"
   ]
  },
  {
   "cell_type": "markdown",
   "id": "aac6176f",
   "metadata": {},
   "source": [
    "## Section 4: Run benchmark against S3 dataset via boto3 S3 Python API"
   ]
  },
  {
   "cell_type": "markdown",
   "id": "4898893f",
   "metadata": {},
   "source": [
    "When using S3 Python API boto3, users need to modify their training scripts and explicitly define dataset behaviors."
   ]
  },
  {
   "cell_type": "code",
   "execution_count": 7,
   "id": "0b0edfbf",
   "metadata": {},
   "outputs": [
    {
     "name": "stdout",
     "output_type": "stream",
     "text": [
      "Epoch 0: 959.3482 seconds\n",
      "Epoch 1: 923.2110 seconds\n",
      "Epoch 2: 955.4719 seconds\n",
      "Epoch 3: 920.5659 seconds\n",
      "Epoch 4: 918.2814 seconds\n",
      "Data loading in 4676.8792 seconds\n",
      "num_epochs: 5 | batch_size: 32 | num_workers: 4 | time: 4676.8792\n"
     ]
    }
   ],
   "source": [
    "from s3_dataset import S3ImageDataset\n",
    "\n",
    "s3_dataset = S3ImageDataset(\"ai-ref-arch\", \"imagenet-mini/train\", transform)\n",
    "benchmark_data_loading(s3_dataset)"
   ]
  }
 ],
 "metadata": {
  "kernelspec": {
   "display_name": "Python 3 (ipykernel)",
   "language": "python",
   "name": "python3"
  },
  "language_info": {
   "codemirror_mode": {
    "name": "ipython",
    "version": 3
   },
   "file_extension": ".py",
   "mimetype": "text/x-python",
   "name": "python",
   "nbconvert_exporter": "python",
   "pygments_lexer": "ipython3",
   "version": "3.8.12"
  }
 },
 "nbformat": 4,
 "nbformat_minor": 5
}
