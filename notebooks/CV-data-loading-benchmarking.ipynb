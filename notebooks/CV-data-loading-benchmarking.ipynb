{
 "cells": [
  {
   "cell_type": "markdown",
   "id": "7d3004e1-373c-465e-bffe-d8d473f930e5",
   "metadata": {},
   "source": [
    "# CV Data Loading Benchmarking"
   ]
  },
  {
   "cell_type": "markdown",
   "id": "f4c8f133-ccde-4388-9183-429ed0e69335",
   "metadata": {},
   "source": [
    "## Section 1: Preparing the Benchmark"
   ]
  },
  {
   "cell_type": "markdown",
   "id": "42ce974d-1ab9-4b5e-8a51-8ca27edd3117",
   "metadata": {},
   "source": [
    "Prepare the Computer Vision data loading benchmark\n",
    "- Creates data loader with given dataset path\n",
    "- Iterates the full dataset for multiple epoches (by default 5 epoches)\n",
    "- Provides data loading performance for comparing data loading solutions"
   ]
  },
  {
   "cell_type": "code",
   "execution_count": 3,
   "id": "79094cbe-99b3-4097-98a2-4c9ee712b0e8",
   "metadata": {},
   "outputs": [],
   "source": [
    "import time\n",
    "import torch\n",
    "\n",
    "import torchvision.transforms as transforms\n",
    "from torchvision.datasets import ImageFolder\n",
    "from torch.utils.data import DataLoader"
   ]
  },
  {
   "cell_type": "code",
   "execution_count": 4,
   "id": "db78f313-897e-4ac0-ad80-8d704c707001",
   "metadata": {},
   "outputs": [],
   "source": [
    "batch_size = 32\n",
    "num_workers = 4\n",
    "num_epochs = 5"
   ]
  },
  {
   "cell_type": "code",
   "execution_count": 5,
   "id": "adbecd3f-93a3-4bf1-a45e-7137323c4fd1",
   "metadata": {},
   "outputs": [],
   "source": [
    "mean = (0.485, 0.456, 0.406)\n",
    "std = (0.229, 0.224, 0.225)\n",
    "\n",
    "transform = transforms.Compose(\n",
    "    [\n",
    "        transforms.Resize(256),\n",
    "        transforms.CenterCrop(224),\n",
    "        transforms.ToTensor(),\n",
    "        transforms.Normalize(mean, std),\n",
    "    ]\n",
    ")"
   ]
  },
  {
   "cell_type": "code",
   "execution_count": 6,
   "id": "3fbac47a-f317-4189-87aa-195e9256e3cb",
   "metadata": {},
   "outputs": [],
   "source": [
    "def benchmark_data_loading(dataset):\n",
    "    data_loader = DataLoader(\n",
    "        dataset,\n",
    "        batch_size=batch_size,\n",
    "        shuffle=False,\n",
    "        num_workers=num_workers,\n",
    "    )\n",
    "    start_time = time.perf_counter()\n",
    "    for epoch in range(num_epochs):\n",
    "        epoch_start = time.perf_counter()\n",
    "        for _, _ in data_loader:\n",
    "            pass\n",
    "        epoch_end = time.perf_counter()\n",
    "        print(f\"Epoch {epoch}: {epoch_end - epoch_start:0.4f} seconds\")\n",
    "    end_time = time.perf_counter()\n",
    "    elapsed_time = end_time - start_time\n",
    "    print(f\"Data loading in {elapsed_time:0.4f} seconds\")\n",
    "    print(f\"num_epochs: {num_epochs} | batch_size: {batch_size} | num_workers: {num_workers} | time: {elapsed_time:0.4f}\")"
   ]
  },
  {
   "cell_type": "markdown",
   "id": "7cd80cff-7ad4-438b-82b8-1226b982b8db",
   "metadata": {},
   "source": [
    "## Section 2: Run benchmark against Alluxio dataset"
   ]
  },
  {
   "cell_type": "code",
   "execution_count": null,
   "id": "d7719721-abf2-4396-bc38-fdfe82bd04b8",
   "metadata": {},
   "outputs": [],
   "source": [
    "Run the benchmark against the Alluxio "
   ]
  },
  {
   "cell_type": "code",
   "execution_count": 8,
   "id": "e65b3c32-aa23-4d99-8da5-49ae931687d0",
   "metadata": {},
   "outputs": [
    {
     "name": "stdout",
     "output_type": "stream",
     "text": [
      "Epoch 0: 35.9072 seconds\n",
      "Epoch 1: 34.8164 seconds\n",
      "Epoch 2: 35.5212 seconds\n",
      "Epoch 3: 34.5897 seconds\n",
      "Epoch 4: 34.9106 seconds\n",
      "Data loading in 175.7465 seconds\n",
      "[Summary] Experiment: DataLoaderBenchmark\n",
      "num_epochs: 5 | batch_size: 32 | num_workers: 4 | time: 175.7465\n"
     ]
    }
   ],
   "source": [
    "alluxio_data_path = \"/mnt/alluxio/data/imagenet-mini/train\"\n",
    "alluxio_dataset = ImageFolder(root=alluxio_data_path, transform=transform)\n",
    "benchmark_data_loading(alluxio_dataset)"
   ]
  },
  {
   "cell_type": "markdown",
   "id": "cc294bdb-db39-4593-be59-017d78edcea5",
   "metadata": {},
   "source": [
    "## Section 3: Run benchmark against S3 dataset via S3FS-FUSE"
   ]
  },
  {
   "cell_type": "markdown",
   "id": "fa6ba964-672a-490c-a0ed-c7a3c73b585e",
   "metadata": {},
   "source": [
    "[S3FS-FUSE](https://github.com/s3fs-fuse/s3fs-fuse) is the most popular S3 FUSE solution to turn S3 into a local folder.\n",
    "S3fs-fuse is mounted with local metadata and data cache."
   ]
  },
  {
   "cell_type": "code",
   "execution_count": null,
   "id": "12f75097-1b72-4d5b-8023-f13047572226",
   "metadata": {},
   "outputs": [],
   "source": [
    "s3fs_data_path = \"/mnt/s3fs/data/imagenet-mini/train\"\n",
    "s3fs_dataset = ImageFolder(root=s3fs_data_path, transform=transform)\n",
    "benchmark_data_loading(s3fs_dataset)"
   ]
  },
  {
   "cell_type": "markdown",
   "id": "203335f5-3031-4987-9ec1-3d56e67f8684",
   "metadata": {},
   "source": [
    "## Section 4: Run benchmark against S3 dataset via boto3 S3 Python API"
   ]
  },
  {
   "cell_type": "markdown",
   "id": "a154dd23-07f9-49da-a585-71572dc2280f",
   "metadata": {},
   "source": [
    "When using S3 Python API boto3, users need to modify their training scripts and explicitly define dataset behaviors."
   ]
  },
  {
   "cell_type": "code",
   "execution_count": null,
   "id": "d1603858-fc58-4ad1-82ea-8bd166d6e79a",
   "metadata": {},
   "outputs": [],
   "source": [
    "from s3_dataset import S3ImageDataset\n",
    "\n",
    "s3_dataset = S3ImageDataset(\"s3-bucket\", \"imagenet-mini/train\", transform)\n",
    "benchmark_data_loading(s3_dataset)"
   ]
  }
 ],
 "metadata": {
  "kernelspec": {
   "display_name": "Python 3 (ipykernel)",
   "language": "python",
   "name": "python3"
  },
  "language_info": {
   "codemirror_mode": {
    "name": "ipython",
    "version": 3
   },
   "file_extension": ".py",
   "mimetype": "text/x-python",
   "name": "python",
   "nbconvert_exporter": "python",
   "pygments_lexer": "ipython3",
   "version": "3.10.9"
  }
 },
 "nbformat": 4,
 "nbformat_minor": 5
}
