{
 "cells": [
  {
   "cell_type": "markdown",
   "id": "d53faab9",
   "metadata": {},
   "source": [
    "# ML Training with Alluxio REST APIs"
   ]
  },
  {
   "cell_type": "code",
   "execution_count": null,
   "id": "f5d92ab3",
   "metadata": {},
   "outputs": [],
   "source": [
    "!pip3 install -q torch_tb_profiler\n",
    "!pip3 install -q humanfriendly"
   ]
  },
  {
   "cell_type": "code",
   "execution_count": null,
   "id": "a85e0165",
   "metadata": {},
   "outputs": [],
   "source": [
    "import time\n",
    "import warnings\n",
    "\n",
    "import torch\n",
    "import torchvision\n",
    "import torchvision.transforms as transforms\n",
    "from torchvision.models import resnet18\n",
    "\n",
    "from rest import AlluxioRest\n",
    "from rest import AlluxioRestDataset"
   ]
  },
  {
   "cell_type": "code",
   "execution_count": null,
   "id": "16a07c6e",
   "metadata": {},
   "outputs": [],
   "source": [
    "warnings.filterwarnings(\"ignore\", category=UserWarning)"
   ]
  },
  {
   "cell_type": "markdown",
   "id": "77b05895",
   "metadata": {},
   "source": [
    "### Checking the device used for training"
   ]
  },
  {
   "cell_type": "code",
   "execution_count": null,
   "id": "8e8c6df2",
   "metadata": {},
   "outputs": [],
   "source": [
    "device = (\n",
    "    \"cuda\"\n",
    "    if torch.cuda.is_available()\n",
    "    else \"mps\"\n",
    "    if torch.backends.mps.is_available()\n",
    "    else \"cpu\"\n",
    ")\n",
    "print(f\"Using {device}\")"
   ]
  },
  {
   "cell_type": "markdown",
   "id": "13021e57",
   "metadata": {},
   "source": [
    "## Section 1: Data Preparation\n",
    "\n",
    "Here, we configure necessary (hyper-)parameters and create the PyTorch data loader.\n",
    "\n",
    "The data loader loads data from Alluxio through the REST APIs."
   ]
  },
  {
   "cell_type": "code",
   "execution_count": null,
   "id": "7794598b",
   "metadata": {},
   "outputs": [],
   "source": [
    "dataset_path = \"s3://ref-arch/imagenet-mini/train\"\n",
    "output_model_path = \"/mnt/alluxio/fuse/models/demo/ai-demo-rest.pth\"\n",
    "endpoint=\"10.244.0.119:28080\"\n",
    "dora_root=\"s3://ref-arch/\"\n",
    "page_size=\"20MB\"\n",
    "\n",
    "batch_size = 64\n",
    "num_workers = 1\n",
    "learning_rate = 0.001\n",
    "num_epochs = 1\n",
    "\n",
    "profiler_enabled = False\n",
    "profiler_log_path = \"../log/ai-demo-rest\""
   ]
  },
  {
   "cell_type": "code",
   "execution_count": null,
   "id": "c0e48dfa",
   "metadata": {},
   "outputs": [],
   "source": [
    "transform = transforms.Compose(\n",
    "    [\n",
    "        transforms.Resize(256),\n",
    "        transforms.CenterCrop(224),\n",
    "        transforms.ToTensor(),\n",
    "        transforms.Normalize(\n",
    "            [0.485, 0.456, 0.406], [0.229, 0.224, 0.225]\n",
    "        ),\n",
    "    ]\n",
    ")"
   ]
  },
  {
   "cell_type": "code",
   "execution_count": null,
   "id": "f5064f40",
   "metadata": {},
   "outputs": [],
   "source": [
    "alluxio_rest = AlluxioRest(\n",
    "    endpoint=endpoint,\n",
    "    dora_root=dora_root,\n",
    "    page_size=page_size,\n",
    "    concurrency=num_workers,\n",
    "    _logger=None,\n",
    ")\n",
    "\n",
    "train_dataset = AlluxioRestDataset(\n",
    "    alluxio_rest=alluxio_rest,\n",
    "    dataset_path=dataset_path,\n",
    "    transform=transform,\n",
    "    _logger=None,\n",
    ")\n",
    "\n",
    "train_loader = torch.utils.data.DataLoader(\n",
    "    train_dataset,\n",
    "    batch_size=batch_size,\n",
    "    shuffle=True,\n",
    "    num_workers=num_workers,\n",
    ")"
   ]
  },
  {
   "cell_type": "markdown",
   "id": "a2976718",
   "metadata": {},
   "source": [
    "## Section 2: Setup the Model\n",
    "\n",
    "We fine-tune the ResNet18 model against a subset of the ImageNet dataset."
   ]
  },
  {
   "cell_type": "code",
   "execution_count": null,
   "id": "76d54a33",
   "metadata": {},
   "outputs": [],
   "source": [
    "model = resnet18(pretrained=True)\n",
    "model = model.to(device)"
   ]
  },
  {
   "cell_type": "markdown",
   "id": "7615e931",
   "metadata": {},
   "source": [
    "## Section 3: Setup the PyTorch Profiler\n",
    "\n",
    "We setup the PyTorch profiler with the TensorBoard for the visualization of GPU utilization and other metrics."
   ]
  },
  {
   "cell_type": "code",
   "execution_count": null,
   "id": "c3988ba7",
   "metadata": {},
   "outputs": [],
   "source": [
    "profiler = None\n",
    "if profiler_enabled:\n",
    "    profiler = torch.profiler.profile(\n",
    "        schedule=torch.profiler.schedule(\n",
    "            wait=0, warmup=0, active=1, repeat=1\n",
    "        ),\n",
    "        on_trace_ready=torch.profiler.tensorboard_trace_handler(\n",
    "            profiler_log_path\n",
    "        ),\n",
    "    )\n",
    "    profiler.start()"
   ]
  },
  {
   "cell_type": "markdown",
   "id": "2f0605ea",
   "metadata": {},
   "source": [
    "## Section 4: Model Training"
   ]
  },
  {
   "cell_type": "code",
   "execution_count": null,
   "id": "29e550cf",
   "metadata": {},
   "outputs": [],
   "source": [
    "criterion = torch.nn.CrossEntropyLoss()\n",
    "optimizer = torch.optim.Adam(\n",
    "    model.parameters(), lr=learning_rate\n",
    ")\n",
    "\n",
    "start_time = time.perf_counter()\n",
    "print(f\"Started training at the timestamp {time.perf_counter()}\")\n",
    "\n",
    "for epoch in range(num_epochs):\n",
    "    for inputs, labels in train_loader:\n",
    "        # Move input and label tensors to the device\n",
    "        inputs = inputs.to(device)\n",
    "        labels = labels.to(device)\n",
    "\n",
    "        # Zero out the optimization\n",
    "        optimizer.zero_grad()\n",
    "\n",
    "        # Forward pass\n",
    "        outputs = model(inputs)\n",
    "        loss = criterion(outputs, labels)\n",
    "\n",
    "        # Backward pass\n",
    "        loss.backward()\n",
    "        optimizer.step()\n",
    "\n",
    "    print(\n",
    "        f\"Epoch {epoch + 1}/{num_epochs}, Loss: {loss.item():0.4f} at the timestamp {time.perf_counter()}\"\n",
    "    )\n",
    "\n",
    "    if profiler_enabled:\n",
    "        profiler.step()\n",
    "\n",
    "print(f\"Finished Training, Loss: {loss.item():0.4f}\")\n",
    "\n",
    "end_time = time.perf_counter()\n",
    "print(f\"Training time in {end_time - start_time:0.4f} seconds\")\n",
    "\n",
    "if profiler_enabled:\n",
    "    profiler.stop()\n",
    "    print(\"The profiler is completed. Please open the TensorBoard to browse the metrics.\")"
   ]
  },
  {
   "cell_type": "markdown",
   "id": "6e24db6f",
   "metadata": {},
   "source": [
    "## Save the Trained Model"
   ]
  },
  {
   "cell_type": "code",
   "execution_count": null,
   "id": "e5b5f7a1",
   "metadata": {},
   "outputs": [],
   "source": [
    "torch.save(model.state_dict(), output_model_path)\n",
    "print(f\"Saved PyTorch AI demo model to {output_model_path}\")"
   ]
  },
  {
   "cell_type": "code",
   "execution_count": null,
   "id": "fd60d2ae",
   "metadata": {},
   "outputs": [],
   "source": []
  }
 ],
 "metadata": {
  "kernelspec": {
   "display_name": "Python 3 (ipykernel)",
   "language": "python",
   "name": "python3"
  },
  "language_info": {
   "codemirror_mode": {
    "name": "ipython",
    "version": 3
   },
   "file_extension": ".py",
   "mimetype": "text/x-python",
   "name": "python",
   "nbconvert_exporter": "python",
   "pygments_lexer": "ipython3",
   "version": "3.9.6"
  }
 },
 "nbformat": 4,
 "nbformat_minor": 5
}
