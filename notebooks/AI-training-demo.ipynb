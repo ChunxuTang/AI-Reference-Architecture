{
 "cells": [
  {
   "cell_type": "markdown",
   "id": "65613a50-4417-4fe6-b9c7-78c4617427e2",
   "metadata": {},
   "source": [
    "# ML Training with Alluxio"
   ]
  },
  {
   "cell_type": "code",
   "execution_count": null,
   "id": "7c615178-e2e3-49c7-8023-1432310d0ca8",
   "metadata": {
    "editable": true,
    "slideshow": {
     "slide_type": ""
    },
    "tags": []
   },
   "outputs": [],
   "source": [
    "!pip3 install -q torch_tb_profiler"
   ]
  },
  {
   "cell_type": "code",
   "execution_count": null,
   "id": "a7cf17f5-1f7f-47a5-89da-b3eeebaae81b",
   "metadata": {},
   "outputs": [],
   "source": [
    "import time\n",
    "import warnings\n",
    "\n",
    "import torch\n",
    "import torchvision\n",
    "import torchvision.transforms as transforms\n",
    "from torchvision.models import resnet18, ResNet18_Weights"
   ]
  },
  {
   "cell_type": "code",
   "execution_count": null,
   "id": "11c7d1d6-8bf1-490b-bf7b-973868073619",
   "metadata": {},
   "outputs": [],
   "source": [
    "warnings.filterwarnings(\"ignore\", category=UserWarning)"
   ]
  },
  {
   "cell_type": "markdown",
   "id": "54d4ef2b-64b5-4930-8e9d-3e3720526d73",
   "metadata": {},
   "source": [
    "### Checking the device used for training"
   ]
  },
  {
   "cell_type": "code",
   "execution_count": null,
   "id": "3181b979-17f0-4f75-b692-2389fb11195a",
   "metadata": {},
   "outputs": [],
   "source": [
    "device = (\n",
    "    \"cuda\"\n",
    "    if torch.cuda.is_available()\n",
    "    else \"mps\"\n",
    "    if torch.backends.mps.is_available()\n",
    "    else \"cpu\"\n",
    ")\n",
    "print(f\"Using {device}\")"
   ]
  },
  {
   "cell_type": "markdown",
   "id": "46b02fee-a214-422f-9fdb-cabf99e16d78",
   "metadata": {},
   "source": [
    "## Section 1: Data Preparation\n",
    "\n",
    "Here, we configure necessary (hyper-)parameters and create the PyTorch data loader.\n",
    "\n",
    "We use FUSE to mount the Alluxio dataset into the training node. So users can conviniently load \n",
    "datasets from Alluxio as if they are on the local disk."
   ]
  },
  {
   "cell_type": "code",
   "execution_count": null,
   "id": "5048bf19-17e9-4f98-8beb-214e8ef8603e",
   "metadata": {},
   "outputs": [],
   "source": [
    "batch_size = 128\n",
    "num_workers = 16\n",
    "dataset_path = \"../data/imagenet-mini/train\"\n",
    "output_model_path = \"../ai-demo.pth\"\n",
    "learning_rate = 0.001\n",
    "num_epochs = 3\n",
    "profiler_enabled = True\n",
    "profiler_log_path = \"../log/ai-demo\""
   ]
  },
  {
   "cell_type": "code",
   "execution_count": null,
   "id": "9d67683d-0618-4df7-a486-86ddd32409f7",
   "metadata": {},
   "outputs": [],
   "source": [
    "transform = transforms.Compose(\n",
    "    [\n",
    "        transforms.Resize(256),\n",
    "        transforms.RandomHorizontalFlip(),\n",
    "        transforms.RandomVerticalFlip(),\n",
    "        transforms.RandomRotation(degrees=45),\n",
    "        transforms.ColorJitter(\n",
    "            brightness=0.5, contrast=0.5, saturation=0.5, hue=0.5\n",
    "        ),\n",
    "        transforms.CenterCrop(224),\n",
    "        transforms.ToTensor(),\n",
    "        transforms.Normalize(\n",
    "            [0.485, 0.456, 0.406], [0.229, 0.224, 0.225]\n",
    "        ),\n",
    "    ]\n",
    ")"
   ]
  },
  {
   "cell_type": "code",
   "execution_count": null,
   "id": "42c642b0-0d50-4381-b43b-04a4fe3ef747",
   "metadata": {},
   "outputs": [],
   "source": [
    "train_dataset = torchvision.datasets.ImageFolder(\n",
    "    root=dataset_path, transform=transform\n",
    ")\n",
    "\n",
    "train_loader = torch.utils.data.DataLoader(\n",
    "    train_dataset,\n",
    "    batch_size=batch_size,\n",
    "    shuffle=True,\n",
    "    num_workers=num_workers,\n",
    ")"
   ]
  },
  {
   "cell_type": "markdown",
   "id": "43acee4d-cbfa-4300-941c-3b768b8e4938",
   "metadata": {},
   "source": [
    "## Section 2: Setup the Model\n",
    "\n",
    "We fine-tune the ResNet18 model against a subset of the ImageNet dataset."
   ]
  },
  {
   "cell_type": "code",
   "execution_count": null,
   "id": "81058f78-90d1-4f65-9256-6b8bc86052dd",
   "metadata": {},
   "outputs": [],
   "source": [
    "model = resnet18(weights=ResNet18_Weights.DEFAULT)\n",
    "model = torch.nn.DataParallel(model)\n",
    "model = model.to(device)"
   ]
  },
  {
   "cell_type": "markdown",
   "id": "092fb5d5-8f7a-4cda-9199-a2e244856347",
   "metadata": {},
   "source": [
    "## Section 3: Setup the PyTorch Profiler\n",
    "\n",
    "We setup the PyTorch profiler with the TensorBoard for the visualization of GPU utilization and other metrics."
   ]
  },
  {
   "cell_type": "code",
   "execution_count": null,
   "id": "8bb106d2-cb11-46d9-a346-5a9b3f790306",
   "metadata": {},
   "outputs": [],
   "source": [
    "profiler = None\n",
    "if profiler_enabled:\n",
    "    profiler = torch.profiler.profile(\n",
    "        schedule=torch.profiler.schedule(\n",
    "            wait=0, warmup=0, active=1, repeat=1\n",
    "        ),\n",
    "        on_trace_ready=torch.profiler.tensorboard_trace_handler(\n",
    "            profiler_log_path\n",
    "        ),\n",
    "    )\n",
    "    profiler.start()"
   ]
  },
  {
   "cell_type": "markdown",
   "id": "643df176-5d88-4b52-a337-4732ad8a0d19",
   "metadata": {},
   "source": [
    "## Section 4: Model Training"
   ]
  },
  {
   "cell_type": "code",
   "execution_count": null,
   "id": "63bc9363-8e10-4fb7-b8fe-91fde87fd62e",
   "metadata": {},
   "outputs": [],
   "source": [
    "criterion = torch.nn.CrossEntropyLoss()\n",
    "optimizer = torch.optim.Adam(\n",
    "    model.parameters(), lr=learning_rate\n",
    ")\n",
    "\n",
    "start_time = time.perf_counter()\n",
    "print(f\"Started training at the timestamp {time.perf_counter()}\")\n",
    "\n",
    "for epoch in range(num_epochs):\n",
    "    for inputs, labels in train_loader:\n",
    "        # Move input and label tensors to the device\n",
    "        inputs = inputs.to(device)\n",
    "        labels = labels.to(device)\n",
    "\n",
    "        # Zero out the optimization\n",
    "        optimizer.zero_grad()\n",
    "\n",
    "        # Forward pass\n",
    "        outputs = model(inputs)\n",
    "        loss = criterion(outputs, labels)\n",
    "\n",
    "        # Backward pass\n",
    "        loss.backward()\n",
    "        optimizer.step()\n",
    "\n",
    "    print(\n",
    "        f\"Epoch {epoch + 1}/{num_epochs}, Loss: {loss.item():0.4f} at the timestamp {time.perf_counter()}\"\n",
    "    )\n",
    "\n",
    "    if profiler_enabled:\n",
    "        profiler.step()\n",
    "\n",
    "print(f\"Finished Training, Loss: {loss.item():0.4f}\")\n",
    "\n",
    "end_time = time.perf_counter()\n",
    "print(f\"Training time in {end_time - start_time:0.4f} seconds\")\n",
    "\n",
    "if profiler_enabled:\n",
    "    profiler.stop()\n",
    "    print(\"The profiler is completed. Please open the TensorBoard to browse the metrics.\")"
   ]
  },
  {
   "cell_type": "markdown",
   "id": "cd80fc1c-f577-4da0-80f3-5d60e5d7246c",
   "metadata": {},
   "source": [
    "## Save the Trained Model"
   ]
  },
  {
   "cell_type": "code",
   "execution_count": null,
   "id": "cd1d3546-1c98-44ea-a176-85fdf3d4c79a",
   "metadata": {},
   "outputs": [],
   "source": [
    "torch.save(model.state_dict(), output_model_path)\n",
    "print(f\"Saved PyTorch AI demo model to {output_model_path}\")"
   ]
  },
  {
   "cell_type": "code",
   "execution_count": null,
   "id": "72966092-09ef-49a0-ad1e-0a1e60f40017",
   "metadata": {},
   "outputs": [],
   "source": []
  }
 ],
 "metadata": {
  "kernelspec": {
   "display_name": "Python 3 (ipykernel)",
   "language": "python",
   "name": "python3"
  },
  "language_info": {
   "codemirror_mode": {
    "name": "ipython",
    "version": 3
   },
   "file_extension": ".py",
   "mimetype": "text/x-python",
   "name": "python",
   "nbconvert_exporter": "python",
   "pygments_lexer": "ipython3",
   "version": "3.9.6"
  }
 },
 "nbformat": 4,
 "nbformat_minor": 5
}
